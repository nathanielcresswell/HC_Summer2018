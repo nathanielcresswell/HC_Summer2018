{
 "cells": [
  {
   "cell_type": "markdown",
   "metadata": {},
   "source": [
    "This Script will utilize numpy's built in eigenvector function to find principle components of variable fields \n",
    "\n",
    "Procedure:\n",
    "    1. Turn fields into column vectors is latXlon space\n",
    "        -> in this way each dimension represents the value at a gridpoint. Each vector represents a variable field     represents a varialble field at a timestep\n",
    "    2. Center vectors for convenience by subtracting the mean \n",
    "    3. Calculate the co variance matrix "
   ]
  },
  {
   "cell_type": "code",
   "execution_count": 7,
   "metadata": {},
   "outputs": [],
   "source": [
    "#################################################################\n",
    "####### import useful packages and define constants #############\n",
    "#################################################################\n",
    "\n",
    "import matplotlib.pyplot as plt\n",
    "import numpy as np\n",
    "\n",
    "import plotly\n",
    "import netCDF4 as nc\n",
    "import plotly.plotly as py \n",
    "import plotly.tools as tls\n",
    "from plotly.graph_objs import * \n",
    "\n",
    "#specify useful variables before running \n",
    "filename = 'C:\\\\Users\\\\Nathaniel\\\\Desktop\\\\Summer2018\\\\HC_Summer2018\\\\Data\\\\vwnd.mon.mean_1948-2017.nc'\n",
    "alt = 1000 "
   ]
  },
  {
   "cell_type": "code",
   "execution_count": 9,
   "metadata": {},
   "outputs": [],
   "source": [
    "#################################################################\n",
    "#############      define useful functions       ################\n",
    "#################################################################\n",
    "\n",
    "#see_file_data will receive a file with its path as a string and print information about the file...thie file must be net cdf \n",
    "#              will not return anything \n",
    "def see_file_data(path):\n",
    "    temp = nc.Dataset(filename,'r')\n",
    "    print('FILENAME: ', filename, '\\n','\\n')\n",
    "    print('FILE HEADER: ', '\\n', temp,'\\n','\\n')\n",
    "    print('FILE VARIABLES: ','\\n',temp.variables)\n",
    "\n",
    "    return\n",
    "\n",
    "#fix_lon will be given a data array and a longitude array \n",
    "#        will return arrays of longitude and data that have been reformatted\n",
    "def fix_lon(array_to_fix, lon_of_array):\n",
    "    \n",
    "    #make longitude from -180 to 180 degrees east \n",
    "    tmp_lon = lon_of_array\n",
    "    for n in range (tmp_lon.size):\n",
    "        if tmp_lon[n]>180:\n",
    "            tmp_lon[n] = lon_of_array[n]-360\n",
    "\n",
    "    #reorient data to be centered at 0 degrees east \n",
    "    i_west    = np.where(tmp_lon<0)\n",
    "    i_east    = np.where(tmp_lon>0)\n",
    "    west      = tmp_lon[i_west]\n",
    "    east      = tmp_lon[i_east]\n",
    "    fixed_lon = np.array(np.hstack((west,east)))\n",
    "    \n",
    "    #make similar adjustments so that vwnd matches new longitude \n",
    "    vwnd_west   = np.squeeze(array_to_fix[:,:,i_west])\n",
    "    vwnd_east   = np.squeeze(array_to_fix[:,:,i_east])\n",
    "    fixed_array = np.concatenate((vwnd_west,vwnd_east), axis=2)\n",
    "        \n",
    "    return fixed_array,fixed_lon\n",
    "\n",
    "#read_nc_file will be given the path to a netcdf file\n",
    "#             will return an array of time, level, lat, lon, data\n",
    "#                  >lon, lat and data will be adjusted so lon is from -180 to 180 degrees east, lat is 0 to 360 degrees north\n",
    "def read_nc_file( filename ):\n",
    "    \n",
    "    print('Reading netCDF file...')\n",
    "    \n",
    "    #extract lon, lat, level and data stored in the netCDF file specified \n",
    "    with nc.Dataset(filename,'r') as f:\n",
    "        lon   = f.variables['lon'][::]\n",
    "        lat   = f.variables['lat'][::-1]\n",
    "        time  = f.variables['time'][::]\n",
    "        level = f.variables['level'][::]\n",
    "        temp0 = f.variables['vwnd'][:,:,::-1,:]\n",
    "\n",
    "    #find index of appropriate pressure \n",
    "    index = np.where(level == alt)\n",
    "    \n",
    "    temp1 = temp0[:,index,:,:]\n",
    "    vwnd  = temp1.squeeze()\n",
    "      \n",
    "    vwnd,lon = fix_lon(vwnd,lon)\n",
    "    \n",
    "    return time, level, lat, lon, vwnd\n",
    "\n",
    "#takes data array and centers it returing the centered array and the mean  \n",
    "def center_data(X):\n",
    "    mu = X.mean(axis=0)\n",
    "    X = X - mu\n",
    "    return mu, X\n",
    "\n",
    "#takes data fields and the number of eigenvales to returns the specified number of eigenvalues \n",
    "def get_principle_components(X,n):\n",
    "    N     = X.shape[0]\n",
    "    sigma = np.dot(X.T,X) / N\n",
    "    l,v   = np.linalg.eigh(sigma)\n",
    "    v     = np.fliplr(v)\n",
    "    return l,v[:,:n]\n",
    "\n",
    "#get dim reduced data ta\n",
    "def get_dim_reduced_data(X, dprime,vals,vecs):\n",
    "    l = vals\n",
    "    v = vecs\n",
    "    coefs = np.dot(X, v)\n",
    "    print(coefs.shape)\n",
    "    reduced_X = np.dot(coefs[:, :dprime], v[:, :dprime].T)\n",
    "    return reduced_X\n"
   ]
  },
  {
   "cell_type": "code",
   "execution_count": 10,
   "metadata": {},
   "outputs": [
    {
     "name": "stdout",
     "output_type": "stream",
     "text": [
      "Reading netCDF file...\n"
     ]
    },
    {
     "ename": "ValueError",
     "evalue": "shapes (143,73,833) and (833,73,143) not aligned: 833 (dim 2) != 73 (dim 1)",
     "output_type": "error",
     "traceback": [
      "\u001b[1;31m---------------------------------------------------------------------------\u001b[0m",
      "\u001b[1;31mValueError\u001b[0m                                Traceback (most recent call last)",
      "\u001b[1;32m<ipython-input-10-4902ce39c43e>\u001b[0m in \u001b[0;36m<module>\u001b[1;34m()\u001b[0m\n\u001b[0;32m      8\u001b[0m \u001b[0mmu\u001b[0m\u001b[1;33m,\u001b[0m \u001b[0mcentered_vwnd\u001b[0m \u001b[1;33m=\u001b[0m \u001b[0mcenter_data\u001b[0m\u001b[1;33m(\u001b[0m\u001b[0mvwnd\u001b[0m\u001b[1;33m)\u001b[0m\u001b[1;33m\u001b[0m\u001b[0m\n\u001b[0;32m      9\u001b[0m \u001b[1;33m\u001b[0m\u001b[0m\n\u001b[1;32m---> 10\u001b[1;33m \u001b[0ml\u001b[0m\u001b[1;33m,\u001b[0m\u001b[0mv\u001b[0m \u001b[1;33m=\u001b[0m \u001b[0mget_principle_components\u001b[0m\u001b[1;33m(\u001b[0m\u001b[0mcentered_vwnd\u001b[0m\u001b[1;33m,\u001b[0m\u001b[1;36m10\u001b[0m\u001b[1;33m)\u001b[0m\u001b[1;33m\u001b[0m\u001b[0m\n\u001b[0m",
      "\u001b[1;32m<ipython-input-9-e0c4d309bf17>\u001b[0m in \u001b[0;36mget_principle_components\u001b[1;34m(X, n)\u001b[0m\n\u001b[0;32m     71\u001b[0m \u001b[1;32mdef\u001b[0m \u001b[0mget_principle_components\u001b[0m\u001b[1;33m(\u001b[0m\u001b[0mX\u001b[0m\u001b[1;33m,\u001b[0m\u001b[0mn\u001b[0m\u001b[1;33m)\u001b[0m\u001b[1;33m:\u001b[0m\u001b[1;33m\u001b[0m\u001b[0m\n\u001b[0;32m     72\u001b[0m     \u001b[0mN\u001b[0m     \u001b[1;33m=\u001b[0m \u001b[0mX\u001b[0m\u001b[1;33m.\u001b[0m\u001b[0mshape\u001b[0m\u001b[1;33m[\u001b[0m\u001b[1;36m0\u001b[0m\u001b[1;33m]\u001b[0m\u001b[1;33m\u001b[0m\u001b[0m\n\u001b[1;32m---> 73\u001b[1;33m     \u001b[0msigma\u001b[0m \u001b[1;33m=\u001b[0m \u001b[0mnp\u001b[0m\u001b[1;33m.\u001b[0m\u001b[0mdot\u001b[0m\u001b[1;33m(\u001b[0m\u001b[0mX\u001b[0m\u001b[1;33m.\u001b[0m\u001b[0mT\u001b[0m\u001b[1;33m,\u001b[0m\u001b[0mX\u001b[0m\u001b[1;33m)\u001b[0m \u001b[1;33m/\u001b[0m \u001b[0mN\u001b[0m\u001b[1;33m\u001b[0m\u001b[0m\n\u001b[0m\u001b[0;32m     74\u001b[0m     \u001b[0ml\u001b[0m\u001b[1;33m,\u001b[0m\u001b[0mv\u001b[0m   \u001b[1;33m=\u001b[0m \u001b[0mnp\u001b[0m\u001b[1;33m.\u001b[0m\u001b[0mlinalg\u001b[0m\u001b[1;33m.\u001b[0m\u001b[0meigh\u001b[0m\u001b[1;33m(\u001b[0m\u001b[0msigma\u001b[0m\u001b[1;33m)\u001b[0m\u001b[1;33m\u001b[0m\u001b[0m\n\u001b[0;32m     75\u001b[0m     \u001b[0mv\u001b[0m     \u001b[1;33m=\u001b[0m \u001b[0mnp\u001b[0m\u001b[1;33m.\u001b[0m\u001b[0mfliplr\u001b[0m\u001b[1;33m(\u001b[0m\u001b[0mv\u001b[0m\u001b[1;33m)\u001b[0m\u001b[1;33m\u001b[0m\u001b[0m\n",
      "\u001b[1;31mValueError\u001b[0m: shapes (143,73,833) and (833,73,143) not aligned: 833 (dim 2) != 73 (dim 1)"
     ]
    }
   ],
   "source": [
    "################################################################################\n",
    "##### utilize previously defined functions for preform PCA on data fields ######\n",
    "################################################################################\n",
    "\n",
    "#extract important variables from netCDF file at appropriate level\n",
    "time, level, lat, lon, vwnd = read_nc_file(filename)\n",
    "\n",
    "mu, centered_vwnd = center_data(vwnd)\n",
    "\n",
    "l,v = get_principle_components(centered_vwnd,10)\n"
   ]
  },
  {
   "cell_type": "code",
   "execution_count": null,
   "metadata": {},
   "outputs": [],
   "source": []
  }
 ],
 "metadata": {
  "kernelspec": {
   "display_name": "Python 3",
   "language": "python",
   "name": "python3"
  },
  "language_info": {
   "codemirror_mode": {
    "name": "ipython",
    "version": 3
   },
   "file_extension": ".py",
   "mimetype": "text/x-python",
   "name": "python",
   "nbconvert_exporter": "python",
   "pygments_lexer": "ipython3",
   "version": "3.6.5"
  }
 },
 "nbformat": 4,
 "nbformat_minor": 2
}
